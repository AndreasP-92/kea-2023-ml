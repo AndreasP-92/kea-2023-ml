{
 "cells": [
  {
   "cell_type": "markdown",
   "id": "9f848557-3598-4fb6-b86d-325410d74cca",
   "metadata": {},
   "source": [
    "# Frozen Lake"
   ]
  },
  {
   "cell_type": "markdown",
   "id": "8c9eb0dc-d51d-4ce5-bfae-fdea05dc888a",
   "metadata": {},
   "source": [
    "https://www.gymlibrary.dev/environments/toy_text/frozen_lake/"
   ]
  },
  {
   "cell_type": "code",
   "execution_count": 127,
   "id": "5c0c04e8-7038-4459-b71c-974a30bde82c",
   "metadata": {},
   "outputs": [],
   "source": [
    "import random\n",
    "import time\n",
    "import numpy as np\n",
    "import matplotlib.pyplot as plt\n",
    "import gym\n",
    "from env_video_recorder import EnvVideoRecorder"
   ]
  },
  {
   "cell_type": "code",
   "execution_count": 128,
   "id": "5085a9a1-67cb-4a0a-ad1e-1e5ab802182d",
   "metadata": {},
   "outputs": [],
   "source": [
    "np.set_printoptions(precision=3)"
   ]
  },
  {
   "cell_type": "code",
   "execution_count": 129,
   "id": "a981a7b5-c787-4407-8cd8-9f8d1d0679c5",
   "metadata": {},
   "outputs": [],
   "source": [
    "SLIPPERY = False"
   ]
  },
  {
   "cell_type": "code",
   "execution_count": 130,
   "id": "ae86664e-786e-4747-a64b-8b8b5494ec5d",
   "metadata": {},
   "outputs": [],
   "source": [
    "env = gym.make('FrozenLake-v1', render_mode='ansi', is_slippery=SLIPPERY)"
   ]
  },
  {
   "cell_type": "code",
   "execution_count": 131,
   "id": "b645ae19-8bdb-49f4-85fb-5862ba76efff",
   "metadata": {},
   "outputs": [],
   "source": [
    "rec = EnvVideoRecorder(env)"
   ]
  },
  {
   "cell_type": "code",
   "execution_count": 132,
   "id": "c502032b-2185-4fdc-9005-87affaa85745",
   "metadata": {},
   "outputs": [
    {
     "name": "stdout",
     "output_type": "stream",
     "text": [
      "[[0. 0. 0. 0.]\n",
      " [0. 0. 0. 0.]\n",
      " [0. 0. 0. 0.]\n",
      " [0. 0. 0. 0.]\n",
      " [0. 0. 0. 0.]\n",
      " [0. 0. 0. 0.]\n",
      " [0. 0. 0. 0.]\n",
      " [0. 0. 0. 0.]\n",
      " [0. 0. 0. 0.]\n",
      " [0. 0. 0. 0.]\n",
      " [0. 0. 0. 0.]\n",
      " [0. 0. 0. 0.]\n",
      " [0. 0. 0. 0.]\n",
      " [0. 0. 0. 0.]\n",
      " [0. 0. 0. 0.]\n",
      " [0. 0. 0. 0.]]\n"
     ]
    }
   ],
   "source": [
    "action_space_size = env.action_space.n\n",
    "state_space_size = env.observation_space.n\n",
    "\n",
    "q_table = np.zeros((state_space_size, action_space_size))\n",
    "print(q_table)"
   ]
  },
  {
   "cell_type": "code",
   "execution_count": 133,
   "id": "4c62a9e9-2709-429f-9ce3-18b5a4bb71a9",
   "metadata": {},
   "outputs": [
    {
     "data": {
      "text/plain": [
       "[0, 0, 0, 0, 0, 0, 0, 0, 0, 0, 0, 0, 0, 0, 0, 0]"
      ]
     },
     "execution_count": 133,
     "metadata": {},
     "output_type": "execute_result"
    }
   ],
   "source": [
    "state_counts = [0] * state_space_size\n",
    "state_counts"
   ]
  },
  {
   "cell_type": "code",
   "execution_count": 134,
   "id": "c740453f-9f34-46e2-8cb0-40afd45e191b",
   "metadata": {},
   "outputs": [],
   "source": [
    "exploration_count = 0\n",
    "exploitation_count = 0\n",
    "last_reward_sum = 0 # this is for step episode by eposode obs"
   ]
  },
  {
   "cell_type": "code",
   "execution_count": 135,
   "id": "bc5b4429-b671-4809-a6fb-a696aa632892",
   "metadata": {},
   "outputs": [],
   "source": [
    "num_episodes = 10_000\n",
    "max_steps_per_episode = 100\n",
    "\n",
    "learning_rate = 0.01\n",
    "discount_rate = 0.98\n",
    "\n",
    "exploration_rate = 1\n",
    "max_exploration_rate = 0.9\n",
    "min_exploration_rate = 0.05\n",
    "exploration_decay_rate = 0.0005"
   ]
  },
  {
   "cell_type": "code",
   "execution_count": 136,
   "id": "d30d3bec-1ae9-45f5-88ee-f86c0ce99177",
   "metadata": {},
   "outputs": [],
   "source": [
    "rewards_all_episodes = []\n",
    "\n",
    "# Q-learning algorithm\n",
    "\n",
    "for episode in range(num_episodes):\n",
    "    state, _ = env.reset()\n",
    "    \n",
    "    done = False\n",
    "    rewards_current_episode = 0\n",
    "    \n",
    "    for step in range(max_steps_per_episode):\n",
    "        \n",
    "        # Exmploration-exploitation trade-off\n",
    "        exploration_rate_threshold = random.uniform(0, 1)\n",
    "        if exploration_rate_threshold > exploration_rate:\n",
    "            exploitation_count += 1\n",
    "            action = np.argmax(q_table[state,:])\n",
    "        else:\n",
    "            exploration_count += 1\n",
    "            action = env.action_space.sample()\n",
    "            \n",
    "        new_state, reward, done, truncated, info = env.step(action)\n",
    "                \n",
    "        # Update Q-table for Q(s,a)\n",
    "        q_table[state, action] = q_table[state, action] * (1 - learning_rate) + \\\n",
    "            learning_rate * (reward + discount_rate * np.max(q_table[new_state,:]))\n",
    "        \n",
    "        state = new_state\n",
    "        state_counts[state] += 1\n",
    "        rewards_current_episode += reward\n",
    "        \n",
    "        if done:\n",
    "            break\n",
    "            \n",
    "    # Exploration rate decay\n",
    "    exploration_rate = min_exploration_rate + \\\n",
    "        (max_exploration_rate - min_exploration_rate) * np.exp(-exploration_decay_rate * episode)\n",
    "        \n",
    "    rewards_all_episodes.append(rewards_current_episode)\n",
    "\n",
    "_ = \"\"\"    \n",
    "    if np.sum(rewards_all_episodes) > last_reward_sum:\n",
    "        last_reward_sum = np.sum(rewards_all_episodes)\n",
    "        print(episode, state, action, last_reward_sum)\n",
    "        print(q_table)\n",
    "        input('press enter to continue')\n",
    "\"\"\""
   ]
  },
  {
   "cell_type": "code",
   "execution_count": 137,
   "id": "d2440126-7a56-44ae-a376-105d0e9e0687",
   "metadata": {},
   "outputs": [
    {
     "name": "stdout",
     "output_type": "stream",
     "text": [
      "*** Average reward per thousand episodes ***\n",
      "1000 : 0.08400000000000006\n",
      "2000 : 0.19300000000000014\n",
      "3000 : 0.34000000000000025\n",
      "4000 : 0.4280000000000003\n",
      "5000 : 0.5130000000000003\n",
      "6000 : 0.6330000000000005\n",
      "7000 : 0.6610000000000005\n",
      "8000 : 0.7660000000000006\n",
      "9000 : 0.7790000000000006\n",
      "10000 : 0.8010000000000006\n",
      "\n",
      "\n",
      "\n",
      "*** Q-table ***\n",
      "[[0.885 0.881 0.904 0.885]\n",
      " [0.885 0.    0.922 0.903]\n",
      " [0.903 0.941 0.897 0.922]\n",
      " [0.921 0.    0.412 0.47 ]\n",
      " [0.414 0.914 0.    0.642]\n",
      " [0.    0.    0.    0.   ]\n",
      " [0.    0.96  0.    0.92 ]\n",
      " [0.    0.    0.    0.   ]\n",
      " [0.51  0.    0.94  0.415]\n",
      " [0.582 0.591 0.96  0.   ]\n",
      " [0.936 0.98  0.    0.938]\n",
      " [0.    0.    0.    0.   ]\n",
      " [0.    0.    0.    0.   ]\n",
      " [0.    0.429 0.975 0.417]\n",
      " [0.933 0.974 1.    0.955]\n",
      " [0.    0.    0.    0.   ]]\n",
      "\n",
      "\n",
      "\n",
      "*** State counts ***\n",
      "[5319, 12401, 11294, 1594, 2498, 2691, 8518, 992, 1873, 1911, 7960, 749, 370, 916, 6930, 5198]\n",
      "\n",
      "\n",
      "\n",
      "*** Exploration/Exploitation count ***\n",
      "30460 40754\n"
     ]
    }
   ],
   "source": [
    "# Calculate and print the average reward per thousand episodes\n",
    "\n",
    "rewards_per_thousand_episodes = np.split(np.array(rewards_all_episodes), num_episodes / 1_000)\n",
    "count = 1_000\n",
    "\n",
    "print('*** Average reward per thousand episodes ***')\n",
    "for r in rewards_per_thousand_episodes:\n",
    "    print(count, ':', str(sum(r/1_000)))\n",
    "    count += 1_000\n",
    "    \n",
    "print('\\n\\n\\n*** Q-table ***')\n",
    "print(q_table)\n",
    "\n",
    "print('\\n\\n\\n*** State counts ***')\n",
    "print(state_counts)\n",
    "\n",
    "print('\\n\\n\\n*** Exploration/Exploitation count ***')\n",
    "print(exploration_count, exploitation_count)"
   ]
  },
  {
   "cell_type": "markdown",
   "id": "d5ae4205-8377-4e16-91b6-57b6b59493d1",
   "metadata": {},
   "source": [
    "`q_table`: 0=left, 1=down, 2=right, 3=up\n",
    "why is the second-last row (the space left of the goal) favoring down?\n",
    "Because it doesn't land on the goal enough to up the score?\n",
    "Has to do with the exploration/exploitation bit? Why is that not working?"
   ]
  },
  {
   "cell_type": "code",
   "execution_count": 138,
   "id": "702e16cc-c631-4b95-9fe8-1a2b26715735",
   "metadata": {},
   "outputs": [],
   "source": [
    "env.close()"
   ]
  },
  {
   "cell_type": "code",
   "execution_count": 139,
   "id": "c1098e51-6719-4b32-b8dd-06c3d75ca2f6",
   "metadata": {},
   "outputs": [
    {
     "data": {
      "text/plain": [
       "array([[[180, 200, 230],\n",
       "        [180, 200, 230],\n",
       "        [180, 200, 230],\n",
       "        ...,\n",
       "        [180, 200, 230],\n",
       "        [180, 200, 230],\n",
       "        [180, 200, 230]],\n",
       "\n",
       "       [[180, 200, 230],\n",
       "        [204, 230, 255],\n",
       "        [204, 230, 255],\n",
       "        ...,\n",
       "        [204, 230, 255],\n",
       "        [204, 230, 255],\n",
       "        [180, 200, 230]],\n",
       "\n",
       "       [[180, 200, 230],\n",
       "        [235, 245, 249],\n",
       "        [204, 230, 255],\n",
       "        ...,\n",
       "        [204, 230, 255],\n",
       "        [204, 230, 255],\n",
       "        [180, 200, 230]],\n",
       "\n",
       "       ...,\n",
       "\n",
       "       [[180, 200, 230],\n",
       "        [235, 245, 249],\n",
       "        [235, 245, 249],\n",
       "        ...,\n",
       "        [204, 230, 255],\n",
       "        [235, 245, 249],\n",
       "        [180, 200, 230]],\n",
       "\n",
       "       [[180, 200, 230],\n",
       "        [235, 245, 249],\n",
       "        [235, 245, 249],\n",
       "        ...,\n",
       "        [204, 230, 255],\n",
       "        [204, 230, 255],\n",
       "        [180, 200, 230]],\n",
       "\n",
       "       [[180, 200, 230],\n",
       "        [180, 200, 230],\n",
       "        [180, 200, 230],\n",
       "        ...,\n",
       "        [180, 200, 230],\n",
       "        [180, 200, 230],\n",
       "        [180, 200, 230]]], dtype=uint8)"
      ]
     },
     "execution_count": 139,
     "metadata": {},
     "output_type": "execute_result"
    }
   ],
   "source": [
    "env = gym.make('FrozenLake-v1', render_mode='rgb_array', is_slippery=SLIPPERY)\n",
    "rec = EnvVideoRecorder(env)\n",
    "rec.reset()\n",
    "rec.render()"
   ]
  },
  {
   "cell_type": "code",
   "execution_count": 140,
   "id": "3dc1aba7-be3c-47bf-ac2f-ae32673ce3df",
   "metadata": {},
   "outputs": [
    {
     "name": "stdout",
     "output_type": "stream",
     "text": [
      "*** EPISODE 0 ***\n",
      "221112\n",
      "YEEAAHH!!\n",
      "*** EPISODE 1 ***\n",
      "221112\n",
      "YEEAAHH!!\n",
      "*** EPISODE 2 ***\n",
      "221112\n",
      "YEEAAHH!!\n",
      "*** EPISODE 3 ***\n",
      "221112\n",
      "YEEAAHH!!\n",
      "*** EPISODE 4 ***\n",
      "221112\n",
      "YEEAAHH!!\n",
      "*** EPISODE 5 ***\n",
      "221112\n",
      "YEEAAHH!!\n",
      "*** EPISODE 6 ***\n",
      "221112\n",
      "YEEAAHH!!\n",
      "*** EPISODE 7 ***\n",
      "221112\n",
      "YEEAAHH!!\n",
      "*** EPISODE 8 ***\n",
      "221112\n",
      "YEEAAHH!!\n",
      "*** EPISODE 9 ***\n",
      "221112\n",
      "YEEAAHH!!\n"
     ]
    }
   ],
   "source": [
    "for episode in range(10):\n",
    "    state, _ = rec.reset()\n",
    "    done = False\n",
    "    \n",
    "    print(f'*** EPISODE {episode} ***')\n",
    "    time.sleep(1)\n",
    "    \n",
    "    for step in range(max_steps_per_episode):\n",
    "        rec.render()\n",
    "        \n",
    "        #time.sleep(0.1)\n",
    "        \n",
    "        action = np.argmax(q_table[state,:])\n",
    "        print(f'{action}', end='')\n",
    "        \n",
    "        new_state, reward, done, truncated, info = rec.step(action)\n",
    "        \n",
    "        if done:\n",
    "            rec.render()\n",
    "            if reward == 1:\n",
    "                print('\\nYEEAAHH!!')\n",
    "            else:\n",
    "                print('\\nBUUUUH!!!')\n",
    "            #time.sleep(1)\n",
    "            break\n",
    "            \n",
    "        state = new_state\n",
    "\n",
    "rec.save('video/frozen-lake.mp4')"
   ]
  },
  {
   "cell_type": "code",
   "execution_count": null,
   "id": "ede46c70-3342-4327-974f-cb1778b42ea7",
   "metadata": {},
   "outputs": [],
   "source": []
  }
 ],
 "metadata": {
  "kernelspec": {
   "display_name": "Python 3 (ipykernel)",
   "language": "python",
   "name": "python3"
  },
  "language_info": {
   "codemirror_mode": {
    "name": "ipython",
    "version": 3
   },
   "file_extension": ".py",
   "mimetype": "text/x-python",
   "name": "python",
   "nbconvert_exporter": "python",
   "pygments_lexer": "ipython3",
   "version": "3.11.2"
  }
 },
 "nbformat": 4,
 "nbformat_minor": 5
}
